{
 "cells": [
  {
   "cell_type": "code",
   "execution_count": 2,
   "metadata": {},
   "outputs": [],
   "source": [
    "import numpy as np\n",
    "from scipy.stats import norm\n",
    "import matplotlib.pyplot as plt\n",
    "import math"
   ]
  },
  {
   "attachments": {},
   "cell_type": "markdown",
   "metadata": {},
   "source": [
    "# Pricing of GMAB and GMDB"
   ]
  },
  {
   "attachments": {},
   "cell_type": "markdown",
   "metadata": {},
   "source": [
    "### Question 1\n",
    "\n",
    "Analytical expressions of the GMAB at time t ≤ T:"
   ]
  },
  {
   "attachments": {},
   "cell_type": "markdown",
   "metadata": {},
   "source": [
    " - using call options:"
   ]
  },
  {
   "cell_type": "code",
   "execution_count": 29,
   "metadata": {},
   "outputs": [],
   "source": [
    "def call__analytic_opt_price(K1,K2,S,T,t,sigma,r):\n",
    "\n",
    "    g1 = (np.log(S/K2) + r-0.5*(sigma)**2)*(T-t)/(sigma*np.sqrt(T-t))\n",
    "    g2 = g1 + (sigma*np.sqrt(T-t))\n",
    "    d1 = (np.log(S/K1) + (r-0.5*(sigma)**2))*(T-t)/(sigma*np.sqrt(T-t))\n",
    "    d2 = d1 + (sigma*np.sqrt(T-t))\n",
    "\n",
    "    spread = 10*(1-norm.cdf(-g1)) + S*((norm.cdf(d1))-(norm.cdf(g1))) - K1*((norm.cdf(d2))-(norm.cdf(g2)))*np.exp(-r*(T-t))\n",
    "\n",
    "    return spread\n"
   ]
  },
  {
   "attachments": {},
   "cell_type": "markdown",
   "metadata": {},
   "source": [
    "- using put opitions: "
   ]
  },
  {
   "cell_type": "code",
   "execution_count": null,
   "metadata": {},
   "outputs": [],
   "source": [
    "def put__analytic_opt_price(K1,K2,S,T,t,sigma,r):\n",
    "\tpass"
   ]
  },
  {
   "attachments": {},
   "cell_type": "markdown",
   "metadata": {},
   "source": [
    "### Question 2\n",
    "\n",
    "Binomial tree to price a GMAB of maturity T=8 years"
   ]
  },
  {
   "cell_type": "code",
   "execution_count": null,
   "metadata": {},
   "outputs": [],
   "source": []
  },
  {
   "attachments": {},
   "cell_type": "markdown",
   "metadata": {},
   "source": [
    "### Question 3\n",
    "\n",
    "Analytical expressions of the GMAB at time t ≤ T:"
   ]
  },
  {
   "attachments": {},
   "cell_type": "markdown",
   "metadata": {},
   "source": [
    "- using call options:"
   ]
  },
  {
   "cell_type": "code",
   "execution_count": null,
   "metadata": {},
   "outputs": [],
   "source": []
  },
  {
   "attachments": {},
   "cell_type": "markdown",
   "metadata": {},
   "source": [
    "- using put options:"
   ]
  },
  {
   "cell_type": "code",
   "execution_count": null,
   "metadata": {},
   "outputs": [],
   "source": []
  },
  {
   "attachments": {},
   "cell_type": "markdown",
   "metadata": {},
   "source": [
    "### Question 4\n",
    "\n",
    "Binomial tree to price a GMDB of maturity T=8 years"
   ]
  },
  {
   "cell_type": "code",
   "execution_count": 4,
   "metadata": {},
   "outputs": [
    {
     "data": {
      "text/plain": [
       "97.52703280679253"
      ]
     },
     "execution_count": 4,
     "metadata": {},
     "output_type": "execute_result"
    }
   ],
   "source": []
  },
  {
   "attachments": {},
   "cell_type": "markdown",
   "metadata": {},
   "source": [
    "# Pricing of a maximum return insurance"
   ]
  },
  {
   "attachments": {},
   "cell_type": "markdown",
   "metadata": {},
   "source": [
    "### Question 1\n",
    "\n",
    "From the file \"Data_project.xlsx\": "
   ]
  },
  {
   "cell_type": "code",
   "execution_count": 26,
   "metadata": {},
   "outputs": [],
   "source": [
    "import pandas as pd\n",
    "\n",
    "def import_excel(file_path):\n",
    "    try:\n",
    "        # Read the Excel file into a pandas DataFrame\n",
    "        df = pd.read_excel(file_path)\n",
    "        \n",
    "        # Check if the required columns are present\n",
    "        required_columns = ['Date', 'Eurxx50', 'Amex']\n",
    "        if not all(column in df.columns for column in required_columns):\n",
    "            raise ValueError(\"Required columns are missing in the Excel file.\")\n",
    "\n",
    "        return df\n",
    "\n",
    "    except FileNotFoundError:\n",
    "        print(\"File not found. Please provide a valid file path.\")\n",
    "    except Exception as e:\n",
    "        print(\"An error occurred:\", e)\n",
    "\n",
    "def calculate_daily_return(df):\n",
    "    # Calculate daily return based on the 'values index1' column\n",
    "    df['Return_Eurxx50'] = df['Eurxx50'].pct_change()\n",
    "\n",
    "    # Calculate daily return based on the 'values index2' column\n",
    "    df['Return_Amex'] = df['Amex'].pct_change()\n",
    "\n",
    "    return df\n",
    "\n",
    "def calculate_statistics(df):\n",
    "    # Calculate averages\n",
    "    avg_return_index1 = df['Return_Eurxx50'].mean()\n",
    "    avg_return_index2 = df['Return_Amex'].mean()\n",
    "\n",
    "    # Calculate standard deviations\n",
    "    std_return_index1 = df['Return_Eurxx50'].std()\n",
    "    std_return_index2 = df['Return_Amex'].std()\n",
    "\n",
    "    # Calculate correlation\n",
    "    correlation = df['Return_Eurxx50'].corr(df['Return_Amex'])\n",
    "\n",
    "    return avg_return_index1, avg_return_index2, std_return_index1, std_return_index2, correlation\n",
    "\n",
    "def calculate_annual_metrics(df):\n",
    "    # Calculate annual standard deviations\n",
    "    annual_std_index1 = df['Return_Eurxx50'].std() * (252**0.5)\n",
    "    annual_std_index2 = df['Return_Amex'].std() * (252**0.5)\n",
    "\n",
    "    # Calculate annual returns\n",
    "    annual_return_index1 = df['Return_Eurxx50'].mean() * 252\n",
    "    annual_return_index2 = df['Return_Amex'].mean() * 252\n",
    "\n",
    "    # Calculate covariance matrix\n",
    "    covariance_matrix = df[['Return_Eurxx50', 'Return_Amex']].cov() * 252\n",
    "\n",
    "    return annual_std_index1, annual_std_index2, annual_return_index1, annual_return_index2, covariance_matrix"
   ]
  },
  {
   "cell_type": "code",
   "execution_count": 22,
   "metadata": {},
   "outputs": [],
   "source": [
    "file_path = \"/mnt/c/buildbr/finance-stochastic-24/data/Data_project.xlsx\"  # Replace \"example.xlsx\" with the path to your Excel file\n",
    "data = import_excel(file_path)"
   ]
  },
  {
   "attachments": {},
   "cell_type": "markdown",
   "metadata": {},
   "source": [
    "- Daily returns of each indice"
   ]
  },
  {
   "cell_type": "code",
   "execution_count": 23,
   "metadata": {},
   "outputs": [
    {
     "name": "stdout",
     "output_type": "stream",
     "text": [
      "          Date      Eurxx50         Amex  Return_Eurxx50  Return_Amex\n",
      "0   2022-02-07  4120.560059  3735.790039             NaN          NaN\n",
      "1   2022-02-08  4129.250000  3711.939941        0.002109    -0.006384\n",
      "2   2022-02-09  4204.089844  3733.330078        0.018124     0.005763\n",
      "3   2022-02-10  4197.069824  3713.290039       -0.001670    -0.005368\n",
      "4   2022-02-11  4155.229980  3810.250000       -0.009969     0.026112\n",
      "..         ...          ...          ...             ...          ...\n",
      "498 2024-01-29  4639.359863  4522.080078        0.000839    -0.002262\n",
      "499 2024-01-30  4662.700195  4573.000000        0.005031     0.011260\n",
      "500 2024-01-31  4648.399902  4499.319824       -0.003067    -0.016112\n",
      "501 2024-02-01  4638.600098  4486.240234       -0.002108    -0.002907\n",
      "502 2024-02-02  4654.549805  4443.890137        0.003438    -0.009440\n",
      "\n",
      "[503 rows x 5 columns]\n"
     ]
    }
   ],
   "source": [
    "if data is not None:\n",
    "    data = calculate_daily_return(data)\n",
    "    print(data)"
   ]
  },
  {
   "attachments": {},
   "cell_type": "markdown",
   "metadata": {},
   "source": [
    "- Averages, standard deviations and correlation of daily returns."
   ]
  },
  {
   "cell_type": "code",
   "execution_count": 27,
   "metadata": {},
   "outputs": [
    {
     "name": "stdout",
     "output_type": "stream",
     "text": [
      "Average daily return for Eurxx50: 0.0003158154915777397\n",
      "Average daily return for Amex: 0.00046371824065852307\n",
      "Standard deviation of daily return for Eurxx50: 0.012109114959043299\n",
      "Standard deviation of daily return for Amex: 0.015357338385754163\n",
      "Correlation between daily returns of Eurxx50 and Amex: 0.30606557576853666\n"
     ]
    }
   ],
   "source": [
    "if data is not None:\n",
    "    data = calculate_daily_return(data)\n",
    "    avg_return_index1, avg_return_index2, std_return_index1, std_return_index2, correlation = calculate_statistics(data)\n",
    "    print(\"Average daily return for Eurxx50:\", avg_return_index1)\n",
    "    print(\"Average daily return for Amex:\", avg_return_index2)\n",
    "    print(\"Standard deviation of daily return for Eurxx50:\", std_return_index1)\n",
    "    print(\"Standard deviation of daily return for Amex:\", std_return_index2)\n",
    "    print(\"Correlation between daily returns of Eurxx50 and Amex:\", correlation)"
   ]
  },
  {
   "cell_type": "code",
   "execution_count": 28,
   "metadata": {},
   "outputs": [
    {
     "name": "stdout",
     "output_type": "stream",
     "text": [
      "Annual Standard Deviation of Eurxx50: 0.19222624067232394\n",
      "Annual Standard Deviation of Amex: 0.24379018901142985\n",
      "Annual Return of Eurxx50: 0.0795855038775904\n",
      "Annual Return of Amex: 0.11685699664594781\n",
      "\n",
      "Covariance Matrix:\n",
      "                Return_Eurxx50  Return_Amex\n",
      "Return_Eurxx50        0.036951     0.014343\n",
      "Return_Amex           0.014343     0.059434\n"
     ]
    }
   ],
   "source": [
    "if data is not None:\n",
    "    data = calculate_daily_return(data)\n",
    "    annual_std_index1, annual_std_index2, annual_return_index1, annual_return_index2, covariance_matrix = calculate_annual_metrics(data)\n",
    "    print(\"Annual Standard Deviation of Eurxx50:\", annual_std_index1)\n",
    "    print(\"Annual Standard Deviation of Amex:\", annual_std_index2)\n",
    "    print(\"Annual Return of Eurxx50:\", annual_return_index1)\n",
    "    print(\"Annual Return of Amex:\", annual_return_index2)\n",
    "    print(\"\\nCovariance Matrix:\")\n",
    "    print(covariance_matrix)"
   ]
  },
  {
   "attachments": {},
   "cell_type": "markdown",
   "metadata": {},
   "source": [
    "### Question 2\n",
    "Maximum return insurance with a closed form expression "
   ]
  },
  {
   "cell_type": "code",
   "execution_count": null,
   "metadata": {},
   "outputs": [],
   "source": []
  },
  {
   "attachments": {},
   "cell_type": "markdown",
   "metadata": {},
   "source": [
    "### Question 3\n",
    "Monte-Carlo simulations for T = 1, 2, ...10 years."
   ]
  },
  {
   "cell_type": "code",
   "execution_count": null,
   "metadata": {},
   "outputs": [],
   "source": []
  },
  {
   "attachments": {},
   "cell_type": "markdown",
   "metadata": {},
   "source": [
    "### Question 4\n",
    "Monte-Carlo simulations for T = 1, 2, ...10 years, in case of death before expiry."
   ]
  },
  {
   "cell_type": "code",
   "execution_count": null,
   "metadata": {},
   "outputs": [],
   "source": []
  }
 ],
 "metadata": {
  "kernelspec": {
   "display_name": "base",
   "language": "python",
   "name": "python3"
  },
  "language_info": {
   "codemirror_mode": {
    "name": "ipython",
    "version": 3
   },
   "file_extension": ".py",
   "mimetype": "text/x-python",
   "name": "python",
   "nbconvert_exporter": "python",
   "pygments_lexer": "ipython3",
   "version": "3.9.16"
  },
  "orig_nbformat": 4,
  "vscode": {
   "interpreter": {
    "hash": "bb1df1545d4534d39d27295e1104949606b0e7f9162bb4496c774b9901e8c739"
   }
  }
 },
 "nbformat": 4,
 "nbformat_minor": 2
}
