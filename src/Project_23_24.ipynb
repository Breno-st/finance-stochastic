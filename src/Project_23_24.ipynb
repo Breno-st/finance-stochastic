{
 "cells": [
  {
   "attachments": {},
   "cell_type": "markdown",
   "metadata": {},
   "source": [
    "# Pricing of GMAB and GMDB"
   ]
  },
  {
   "attachments": {},
   "cell_type": "markdown",
   "metadata": {},
   "source": [
    "### Question 1\n",
    "\n",
    "Analytical expressions of the GMAB at time t ≤ T:"
   ]
  },
  {
   "attachments": {},
   "cell_type": "markdown",
   "metadata": {},
   "source": [
    " - using call options:"
   ]
  },
  {
   "cell_type": "code",
   "execution_count": 1,
   "metadata": {},
   "outputs": [
    {
     "name": "stdout",
     "output_type": "stream",
     "text": [
      "Black-Scholes Call Price: 6.040088129724239\n"
     ]
    }
   ],
   "source": [
    "import numpy as np\n",
    "from scipy.stats import norm\n",
    "import pandas as pd\n",
    "\n",
    "\n",
    "def black_scholes(S, K, T, r, sigma, option_type='call'):\n",
    "    \"\"\"\n",
    "    Calculate the Black-Scholes option price.\n",
    "\n",
    "    Parameters:\n",
    "        S (float): Current price of the underlying asset\n",
    "        K (float): Strike price\n",
    "        T (float): Time to maturity (in years)\n",
    "        r (float): Risk-free interest rate (annualized)\n",
    "        sigma (float): Volatility of the underlying asset (annualized)\n",
    "        option_type (str): Type of the option, either 'call' or 'put' (default is 'call')\n",
    "\n",
    "    Returns:\n",
    "        float: The Black-Scholes option price\n",
    "    \"\"\"\n",
    "    d1 = (np.log(S / K) + (r + 0.5 * sigma ** 2) * T) / (sigma * np.sqrt(T))\n",
    "    d2 = d1 - sigma * np.sqrt(T)\n",
    "\n",
    "    if option_type == 'call':\n",
    "        option_price = S * norm.cdf(d1) - K * np.exp(-r * T) * norm.cdf(d2)\n",
    "    elif option_type == 'put':\n",
    "        option_price = K * np.exp(-r * T) * norm.cdf(-d2) - S * norm.cdf(-d1)\n",
    "    else:\n",
    "        raise ValueError(\"Option type must be either 'call' or 'put'\")\n",
    "\n",
    "    return option_price\n",
    "\n",
    "# Example usage\n",
    "S = 100     # Current price of the underlying asset\n",
    "K = 110     # Strike price\n",
    "T = 1       # Time to maturity (in years)\n",
    "r = 0.05    # Risk-free interest rate (annualized)\n",
    "sigma = 0.2 # Volatility of the underlying asset (annualized)\n",
    "\n",
    "call_price = black_scholes(S, K, T, r, sigma, option_type='call')\n",
    "\n",
    "\n",
    "print(\"Black-Scholes Call Price:\", call_price)\n"
   ]
  },
  {
   "attachments": {},
   "cell_type": "markdown",
   "metadata": {},
   "source": [
    "- using put opitions: "
   ]
  },
  {
   "cell_type": "code",
   "execution_count": 2,
   "metadata": {},
   "outputs": [
    {
     "name": "stdout",
     "output_type": "stream",
     "text": [
      "Black-Scholes Put Price: 10.675324824802793\n"
     ]
    }
   ],
   "source": [
    "# Example usage\n",
    "S = 100     # Current price of the underlying asset\n",
    "K = 110     # Strike price\n",
    "T = 1       # Time to maturity (in years)\n",
    "r = 0.05    # Risk-free interest rate (annualized)\n",
    "sigma = 0.2 # Volatility of the underlying asset (annualized)\n",
    "\n",
    "put_price = black_scholes(S, K, T, r, sigma, option_type='put')\n",
    "\n",
    "print(\"Black-Scholes Put Price:\", put_price)"
   ]
  },
  {
   "attachments": {},
   "cell_type": "markdown",
   "metadata": {},
   "source": [
    "### Question 2\n",
    "\n",
    "Binomial tree to price a GMAB of maturity T=8 years"
   ]
  },
  {
   "cell_type": "code",
   "execution_count": null,
   "metadata": {},
   "outputs": [],
   "source": []
  },
  {
   "attachments": {},
   "cell_type": "markdown",
   "metadata": {},
   "source": [
    "### Question 3\n",
    "\n",
    "Analytical expressions of the GMDB at time t ≤ T:"
   ]
  },
  {
   "attachments": {},
   "cell_type": "markdown",
   "metadata": {},
   "source": [
    "- using call options:"
   ]
  },
  {
   "cell_type": "code",
   "execution_count": null,
   "metadata": {},
   "outputs": [],
   "source": []
  },
  {
   "attachments": {},
   "cell_type": "markdown",
   "metadata": {},
   "source": [
    "- using put options:"
   ]
  },
  {
   "cell_type": "code",
   "execution_count": null,
   "metadata": {},
   "outputs": [],
   "source": []
  },
  {
   "attachments": {},
   "cell_type": "markdown",
   "metadata": {},
   "source": [
    "### Question 4\n",
    "\n",
    "Binomial tree to price a GMDB of maturity T=8 years"
   ]
  },
  {
   "cell_type": "code",
   "execution_count": 4,
   "metadata": {},
   "outputs": [
    {
     "data": {
      "text/plain": [
       "97.52703280679253"
      ]
     },
     "execution_count": 4,
     "metadata": {},
     "output_type": "execute_result"
    }
   ],
   "source": []
  },
  {
   "attachments": {},
   "cell_type": "markdown",
   "metadata": {},
   "source": [
    "# Pricing of a maximum return insurance"
   ]
  },
  {
   "cell_type": "code",
   "execution_count": 13,
   "metadata": {},
   "outputs": [],
   "source": [
    "import numpy as np\n",
    "from scipy.stats import norm\n",
    "import matplotlib.pyplot as plt\n",
    "import math\n",
    "import pandas as pd"
   ]
  },
  {
   "attachments": {},
   "cell_type": "markdown",
   "metadata": {},
   "source": [
    "### Question 1\n",
    "\n",
    "From the file \"Data_project.xlsx\": "
   ]
  },
  {
   "cell_type": "code",
   "execution_count": 14,
   "metadata": {},
   "outputs": [],
   "source": [
    "def import_excel(file_path):\n",
    "    ''' Imports xlxs file in the provided path.'''\n",
    "    try:\n",
    "        # Read the Excel file into a pandas DataFrame\n",
    "        df = pd.read_excel(file_path)\n",
    "        \n",
    "        # Check if the required columns are present\n",
    "        required_columns = ['Date']\n",
    "        if not all(column in df.columns for column in required_columns):\n",
    "            raise ValueError(\"Required columns are missing in the Excel file.\")\n",
    "        return df\n",
    "\n",
    "    except FileNotFoundError:\n",
    "        print(\"File not found. Please provide a valid file path.\")\n",
    "    except Exception as e:\n",
    "        print(\"An error occurred:\", e)\n",
    "\n",
    "# Import .xlsx file containing date and indexes columns closing values. Example ['Date', \"Eurxx50\", \"Amex\"] \n",
    "file_path = \"/mnt/c/buildbr/finance-stochastic-24/data/Data_project.xlsx\" \n",
    "data = import_excel(file_path)"
   ]
  },
  {
   "cell_type": "code",
   "execution_count": 15,
   "metadata": {},
   "outputs": [],
   "source": [
    "def calculate_daily_return(df):\n",
    "    ''' Calculate the returns, avg, and std for each index-column.'''\n",
    "\n",
    "    avg_return_idx = []\n",
    "    std_return_idx = []\n",
    "\n",
    "    cols = df.columns[1:]\n",
    "\n",
    "    [col for col in df.columns if 'return' in col]\n",
    "    for col in cols:\n",
    "        df[f'return_{col}'] = df[col].pct_change()\n",
    "        avg_return_idx.append(df[f'return_{col}'].mean())\n",
    "        std_return_idx.append(df[f'return_{col}'].std())\n",
    "\n",
    "    return cols, avg_return_idx, std_return_idx\n",
    "\n",
    "def calculate_returns_corr(df):\n",
    "    ''' Calculate the return correlation of the indexes.'''\n",
    "\n",
    "    return_columns = [col for col in df.columns if 'return' in col]\n",
    "    df_return = df[return_columns]\n",
    "    return_corr_matrix = df_return.corr()\n",
    "\n",
    "    correlation = df['return_Amex'].corr(df['return_Eurxx50'])\n",
    "    cov_matrix = df[return_columns].cov()\n",
    "    \n",
    "    return return_corr_matrix, correlation, cov_matrix\n",
    "\n",
    "if data is not None:\n",
    "    # Calculate returns\n",
    "    indexes, avg_returns, std_returns = calculate_daily_return(data)\n",
    "    # Calculate returns correlation\n",
    "    corr_matrix, correlation, cov_matrix = calculate_returns_corr(data) # check with slides"
   ]
  },
  {
   "attachments": {},
   "cell_type": "markdown",
   "metadata": {},
   "source": [
    "- Daily returns of each indice"
   ]
  },
  {
   "cell_type": "code",
   "execution_count": 16,
   "metadata": {},
   "outputs": [
    {
     "name": "stdout",
     "output_type": "stream",
     "text": [
      "          Date      Eurxx50         Amex  return_Eurxx50  return_Amex\n",
      "0   2022-02-07  4120.560059  3735.790039             NaN          NaN\n",
      "1   2022-02-08  4129.250000  3711.939941        0.002109    -0.006384\n",
      "2   2022-02-09  4204.089844  3733.330078        0.018124     0.005763\n",
      "3   2022-02-10  4197.069824  3713.290039       -0.001670    -0.005368\n",
      "4   2022-02-11  4155.229980  3810.250000       -0.009969     0.026112\n",
      "..         ...          ...          ...             ...          ...\n",
      "498 2024-01-29  4639.359863  4522.080078        0.000839    -0.002262\n",
      "499 2024-01-30  4662.700195  4573.000000        0.005031     0.011260\n",
      "500 2024-01-31  4648.399902  4499.319824       -0.003067    -0.016112\n",
      "501 2024-02-01  4638.600098  4486.240234       -0.002108    -0.002907\n",
      "502 2024-02-02  4654.549805  4443.890137        0.003438    -0.009440\n",
      "\n",
      "[503 rows x 5 columns]\n"
     ]
    }
   ],
   "source": [
    "print(data)"
   ]
  },
  {
   "attachments": {},
   "cell_type": "markdown",
   "metadata": {},
   "source": [
    "- Averages, standard deviations and correlation of daily returns."
   ]
  },
  {
   "cell_type": "code",
   "execution_count": 17,
   "metadata": {},
   "outputs": [
    {
     "name": "stdout",
     "output_type": "stream",
     "text": [
      "The daiy return average and std deviaton for the Eurxx50 are: 0.032% and 0.012\n",
      "The daiy return average and std deviaton for the Amex are: 0.046% and 0.015\n",
      "The correlation is rho : 0.306\n",
      "The covariance matrix M:\n",
      "                return_Eurxx50  return_Amex\n",
      "return_Eurxx50        0.000147     0.000057\n",
      "return_Amex           0.000057     0.000236\n",
      "The Choleski decomposition of M:\n"
     ]
    },
    {
     "data": {
      "text/plain": [
       "array([[0.01210911, 0.        ],\n",
       "       [0.00470035, 0.01462035]])"
      ]
     },
     "execution_count": 17,
     "metadata": {},
     "output_type": "execute_result"
    }
   ],
   "source": [
    "for idx, col in enumerate(indexes):\n",
    "        print(f'The daiy return average and std deviaton for the {col} are: {round(avg_returns[idx]*100,3)}% and {round(std_returns[idx],3)}')\n",
    "print(f'The correlation is rho : {round(correlation,3)}')\n",
    "print(f'The covariance matrix M:')\n",
    "print(cov_matrix)\n",
    "print(f'The Choleski decomposition of M:')\n",
    "np.linalg.cholesky(cov_matrix)"
   ]
  },
  {
   "attachments": {},
   "cell_type": "markdown",
   "metadata": {},
   "source": [
    "- Calculate the annual standard deviations, annual returns and covariance\n",
    "matrix."
   ]
  },
  {
   "cell_type": "code",
   "execution_count": 18,
   "metadata": {},
   "outputs": [
    {
     "name": "stdout",
     "output_type": "stream",
     "text": [
      "The annual return average and std deviaton for the Eurxx50 are: 7.959% and 0.192\n",
      "The annual return average and std deviaton for the Amex are: 11.686% and 0.244\n"
     ]
    }
   ],
   "source": [
    "for idx, col in enumerate(indexes):\n",
    "        print(f'The annual return average and std deviaton for the {col} are: {round(avg_returns[idx]*252*100,3)}% and {round(std_returns[idx]* np.sqrt(252),3)}')"
   ]
  },
  {
   "attachments": {},
   "cell_type": "markdown",
   "metadata": {},
   "source": [
    "$$\n",
    "\\text{Cov}(X,Y) = \n",
    "\\begin{bmatrix}\n",
    "\\sigma_1^2 & \\rho \\sigma_1 \\sigma_1 \\\\\n",
    "\\rho \\sigma_1 \\sigma_2 & \\sigma_2^2 \\\\\n",
    "\\end{bmatrix}\n",
    "$$\n"
   ]
  },
  {
   "cell_type": "code",
   "execution_count": 19,
   "metadata": {},
   "outputs": [
    {
     "name": "stdout",
     "output_type": "stream",
     "text": [
      "The annualized covariance matrix M:\n",
      "[[3.05149697 0.01434311]\n",
      " [0.01434311 3.87004927]]\n"
     ]
    }
   ],
   "source": [
    "\n",
    "cov_matrix_Y = np.array([[std_returns[0]* np.sqrt(252)**2, std_returns[0]* np.sqrt(252)*std_returns[1]* np.sqrt(252)*correlation],\n",
    "                           [std_returns[0]* np.sqrt(252)*std_returns[1]* np.sqrt(252)*correlation, std_returns[1]* np.sqrt(252)**2]])\n",
    "print(f'The annualized covariance matrix M:')\n",
    "print(cov_matrix_Y)\n"
   ]
  },
  {
   "attachments": {},
   "cell_type": "markdown",
   "metadata": {},
   "source": [
    "$$\n",
    "\\text{$\\Sigma$} = \n",
    "\\begin{bmatrix}\n",
    "\\sigma_1 & 0 \\\\\n",
    "\\rho \\sigma_2  & \\sqrt{1 -\\rho} \\sigma_2 \\\\\n",
    "\\end{bmatrix}\n",
    "$$"
   ]
  },
  {
   "cell_type": "code",
   "execution_count": 20,
   "metadata": {},
   "outputs": [
    {
     "name": "stdout",
     "output_type": "stream",
     "text": [
      "The annualized Choleski decomposition of M:\n",
      "[[1.74685345 0.        ]\n",
      " [0.00821083 1.96722695]]\n"
     ]
    }
   ],
   "source": [
    "print(f'The annualized Choleski decomposition of M:')\n",
    "Cholesky = np.linalg.cholesky(cov_matrix_Y)\n",
    "print(Cholesky)"
   ]
  },
  {
   "attachments": {},
   "cell_type": "markdown",
   "metadata": {},
   "source": [
    "### Question 2\n",
    "The interest rate is equal r = 3.75% and the maturity is T. Using the parameters estimated from Q1, evaluate the maximum return insurance with a\n",
    "closed form expression (present and brifly comment it) for T = 1, 2, ...10 years (t = 0)."
   ]
  },
  {
   "cell_type": "code",
   "execution_count": 21,
   "metadata": {},
   "outputs": [
    {
     "name": "stderr",
     "output_type": "stream",
     "text": [
      "/tmp/ipykernel_2358/3508663328.py:20: RuntimeWarning: invalid value encountered in scalar divide\n",
      "  d2 = (np.log(S1 / S2) - ut)/vt\n"
     ]
    },
    {
     "data": {
      "image/png": "[encoded data removed]",
      "text/plain": [
       "<Figure size 640x480 with 1 Axes>"
      ]
     },
     "metadata": {},
     "output_type": "display_data"
    },
    {
     "data": {
      "image/png": "[encoded data removed]",
      "text/plain": [
       "<Figure size 640x480 with 1 Axes>"
      ]
     },
     "metadata": {},
     "output_type": "display_data"
    }
   ],
   "source": [
    "def embedded_options_max_return_closed_form_black_scholes(S1, S2, r, t, T, choleski):\n",
    "    \"\"\"\n",
    "    Calculate the Black-Scholes option price with an embedded max return feature in a closed form.\n",
    "\n",
    "    Parameters:\n",
    "        S1 (float): Current price of the first underlying asset\n",
    "        S2 (float): Current price of the second underlying asset\n",
    "        T (float): Time to maturity (in years)\n",
    "        choleski: The Cholesky decomposition of the covariance matrix \n",
    "\n",
    "    Returns:\n",
    "        float: The Black-Scholes option price with an embedded max return feature\n",
    "    \"\"\"\n",
    "  \n",
    "    # Calculate the parameters for the option (slide 191)\n",
    "    ut = -(choleski[1,1]**2+(choleski[1,0]-choleski[0,0])**2)*T/2\n",
    "    vt = np.sqrt((choleski[1,1]**2+(choleski[1,0]-choleski[0,0])**2)*T)\n",
    "    \n",
    "    # Black-Scholes parameters with max return feature\n",
    "    d2 = (np.log(S1 / S2) - ut)/vt\n",
    "    d1 = d2 - vt\n",
    "\n",
    "    # Analytical formula for the option price \n",
    "    option_price = S2 * norm.cdf(-d1) - S1 * norm.cdf(-d2) + S1 * np.exp(-r * t)\n",
    "\n",
    "    return option_price\n",
    "\n",
    "Maturities = range(0,11) \n",
    "\n",
    "# Example slide 192\n",
    "S1 = 100     # Current price of the first underlying asset\n",
    "S2 = 100     # Current price of the second underlying asset\n",
    "r = 0.04\n",
    "t= 0\n",
    "cho_1 =  np.array([[0.25, 0],\n",
    "                   [0, 0.3]])\n",
    "\n",
    "option_prices = []\n",
    "for T in Maturities:\n",
    "    option_price_t = embedded_options_max_return_closed_form_black_scholes(S1, S2, r, t, T, cho_1)\n",
    "    option_prices.append(option_price_t)\n",
    "\n",
    "# Plotting\n",
    "plt.plot(Maturities, option_prices, marker='o')\n",
    "plt.title('Option Prices vs. Maturities')\n",
    "plt.xlabel('Maturity (years)')\n",
    "plt.ylabel('Option Price')\n",
    "plt.grid(True)\n",
    "plt.show()\n",
    "\n",
    "\n",
    "# Project\n",
    "S1 = 15000   # Current price of the first underlying asset\n",
    "S2 = 15000   # Current price of the second underlying asset\n",
    "r = 0.0375\n",
    "t= 0\n",
    "cho_2 =  Cholesky\n",
    "\n",
    "option_prices = []\n",
    "for T in Maturities:\n",
    "    option_price_t = embedded_options_max_return_closed_form_black_scholes(S1, S2, r, t, T, cho_2)\n",
    "    option_prices.append(option_price_t)\n",
    "\n",
    "# Plotting\n",
    "plt.plot(Maturities, option_prices, marker='o')\n",
    "plt.title('Option Prices vs. Maturities')\n",
    "plt.xlabel('Maturity (years)')\n",
    "plt.ylabel('Option Price')\n",
    "plt.grid(True)\n",
    "plt.show()\n",
    "\n",
    "\n"
   ]
  },
  {
   "attachments": {},
   "cell_type": "markdown",
   "metadata": {},
   "source": [
    "### Question 3\n",
    "Price the contract by Monte-Carlo simulations for T = 1, 2, ...10 years. Compare your results with those obtained with the closed-form expression. Test different steps of time and check the convergence."
   ]
  },
  {
   "cell_type": "code",
   "execution_count": 22,
   "metadata": {},
   "outputs": [
    {
     "ename": "AttributeError",
     "evalue": "'int' object has no attribute 'mean'",
     "output_type": "error",
     "traceback": [
      "\u001b[0;31m---------------------------------------------------------------------------\u001b[0m",
      "\u001b[0;31mAttributeError\u001b[0m                            Traceback (most recent call last)",
      "Cell \u001b[0;32mIn[22], line 38\u001b[0m\n\u001b[1;32m     35\u001b[0m choleski \u001b[39m=\u001b[39m Cholesky\n\u001b[1;32m     37\u001b[0m \u001b[39m# Simulate paths\u001b[39;00m\n\u001b[0;32m---> 38\u001b[0m paths \u001b[39m=\u001b[39m simulate_paths(S0, r, sigma, T, m, p, choleski)\n\u001b[1;32m     40\u001b[0m \u001b[39m# Plotting\u001b[39;00m\n\u001b[1;32m     41\u001b[0m plt\u001b[39m.\u001b[39mfigure(figsize\u001b[39m=\u001b[39m(\u001b[39m10\u001b[39m, \u001b[39m6\u001b[39m))\n",
      "Cell \u001b[0;32mIn[22], line 25\u001b[0m, in \u001b[0;36msimulate_paths\u001b[0;34m(S0, r, sigma, T, m, p, choleski)\u001b[0m\n\u001b[1;32m     22\u001b[0m     DeltaSJ \u001b[39m=\u001b[39m r \u001b[39m*\u001b[39m paths[j\u001b[39m-\u001b[39m\u001b[39m1\u001b[39m] \u001b[39m*\u001b[39m dt \u001b[39m+\u001b[39m sigma \u001b[39m*\u001b[39m paths[j\u001b[39m-\u001b[39m\u001b[39m1\u001b[39m] \u001b[39m*\u001b[39m np\u001b[39m.\u001b[39msqrt(dt) \u001b[39m*\u001b[39m np\u001b[39m.\u001b[39mrandom\u001b[39m.\u001b[39mnormal(size\u001b[39m=\u001b[39mp)\n\u001b[1;32m     23\u001b[0m     paths[j, :] \u001b[39m=\u001b[39m paths[j\u001b[39m-\u001b[39m\u001b[39m1\u001b[39m] \u001b[39m+\u001b[39m DeltaSJ\n\u001b[0;32m---> 25\u001b[0m \u001b[39mreturn\u001b[39;00m paths, p\u001b[39m.\u001b[39;49mmean(paths[\u001b[39m-\u001b[39m\u001b[39m1\u001b[39m, :])\n",
      "\u001b[0;31mAttributeError\u001b[0m: 'int' object has no attribute 'mean'"
     ]
    }
   ],
   "source": [
    "def simulate_paths(S0, r, sigma, T, m, p, choleski):\n",
    "    \"\"\"\n",
    "    Simulate paths of S_t under the risk-neutral measure Q.\n",
    "\n",
    "    Parameters:\n",
    "        S0 (float): Initial price of the asset\n",
    "        r (float): Risk-free interest rate\n",
    "        sigma (float): Volatility of the asset\n",
    "        T (float): Time to maturity (in years)\n",
    "        m (int): Number of time steps\n",
    "        p (int): Number of simulations\n",
    "        choleski: The Cholesky decomposition of the covariance matrix \n",
    "\n",
    "    Returns:\n",
    "        numpy.ndarray: Matrix of simulated paths with shape (m+1, p)\n",
    "    \"\"\"\n",
    "    dt = T / m\n",
    "    paths = np.zeros((m+1, p))\n",
    "    paths[0, :] = S0\n",
    "\n",
    "    for j in range(1, m+1):\n",
    "        DeltaSJ = r * paths[j-1] * dt + sigma * paths[j-1] * np.sqrt(dt) * np.random.normal(size=p)\n",
    "        paths[j, :] = paths[j-1] + DeltaSJ\n",
    "\n",
    "    return paths, p.mean(paths[-1, :]) \n",
    "\n",
    "# Parameters\n",
    "S0 = 1500      # Initial price of the asset\n",
    "r = 0.0375      # Risk-free interest rate\n",
    "sigma = 0.3   # Volatility of the asset\n",
    "T = 1         # Time to maturity (in years)\n",
    "m = 100       # Number of time steps\n",
    "p = 1000      # Number of simulations\n",
    "\n",
    "choleski = Cholesky\n",
    "\n",
    "# Simulate paths\n",
    "paths = simulate_paths(S0, r, sigma, T, m, p, choleski)\n",
    "\n",
    "# Plotting\n",
    "plt.figure(figsize=(10, 6))\n",
    "for i in range(p):\n",
    "    plt.plot(np.linspace(0, T, m+1), paths[:, i])\n",
    "plt.title('Simulated Paths of S_t under Q')\n",
    "plt.xlabel('Time')\n",
    "plt.ylabel('Asset Price')\n",
    "plt.grid(True)\n",
    "plt.show()"
   ]
  },
  {
   "cell_type": "code",
   "execution_count": 11,
   "metadata": {},
   "outputs": [
    {
     "name": "stdout",
     "output_type": "stream",
     "text": [
      "Average Price: 102.80568533055792\n"
     ]
    }
   ],
   "source": [
    "print(\"Average Price:\", np.mean(paths[-1, :]))"
   ]
  },
  {
   "attachments": {},
   "cell_type": "markdown",
   "metadata": {},
   "source": [
    "### Question 4\n",
    "We assume that in case of death before expiry, the inheritor will receive the maximum between the initial premium (15 000€) and the funds\n",
    "tracking the Eurostoxx 50 and the AMEX. Evaluate this death insurance for T = 1, 2, ...10 years, using Monte-Carlo simulations. Test different steps of time and check the convergence."
   ]
  },
  {
   "cell_type": "code",
   "execution_count": null,
   "metadata": {},
   "outputs": [],
   "source": []
  },
  {
   "cell_type": "code",
   "execution_count": null,
   "metadata": {},
   "outputs": [],
   "source": []
  },
  {
   "attachments": {},
   "cell_type": "markdown",
   "metadata": {},
   "source": [
    "xmin = np.log(50/95)  # Lower bound of x\n",
    "xmax = np.log(150/95)  # Upper bound of x\n",
    "N = 300 # Number of time steps\n",
    "M = 20  # Number of spatial steps\n",
    "\n",
    "# Define the time and spatial step sizes\n",
    "dt = T / N\n",
    "h = (xmax - xmin) / M\n",
    "print('The value of alpha is',dt/h**2) # making sure we have the stability condition\n",
    "\n",
    "# Define the arrays for the stock price and time\n",
    "x = np.linspace(xmin, xmax, M+1)\n",
    "t = np.linspace(0, T, N+1)\n",
    "\n",
    "# Define the initial and boundary conditions\n",
    "V = np.zeros((N+1, M+1))\n",
    "q=np.maximum(0,S0 * np.exp(x) - K)\n",
    "V[N, :] = np.minimum(q, 10)\n",
    "V[:, 0] = 0\n",
    "\n",
    "for j in range(N+1):\n",
    "    if S0*np.exp(xmax) >= K + 10:\n",
    "        V[j,M] = 10* np.exp(-r*(T-j*dt))\n",
    "    elif S0*np.exp(xmax) <= K:\n",
    "        V[j,M] = 0\n",
    "    else:\n",
    "        V[j,M] = (S0*np.exp(xmax) - K)* np.exp(-r*(T-j*dt))\n",
    "    # V[j,M] = 10\n",
    "\n",
    "# Define the coefficients of the discretized equation\n",
    "\n",
    "ce = ( 0.5 * r/h + (1/h - 1/2)* 0.5/h * sigma**2)*dt / (1+r*dt)\n",
    "be = (1 -  dt * sigma**2/h**2) / (1+r*dt)\n",
    "ae = (- 0.5 * r/h + (1/h + 1/2)* 0.5/h * sigma**2)*dt / (1+r*dt)\n",
    "\n",
    "# Solve the equation using the explicit method\n",
    "for i in range( N-1,-1,-1):\n",
    "\n",
    "    for j in range(1, M):\n",
    "\n",
    "        V[i, j] = ae*V[i+1, j-1] + be * (V[i+1, j]) + ce * (V[i+1, j+1] )\n",
    "\n",
    "# for i in range(M+1):\n",
    "#\n",
    "#     plt.plot(t,V[:,i])\n",
    "# plt.show()\n",
    "\n",
    "step = 12\n",
    "print(V[0,step])\n",
    "\n",
    "# Plot the matrix\n",
    "plt.imshow(V, origin='lower', extent=[50, 150, 0, 1], cmap='hot', aspect='auto')\n",
    "plt.colorbar(label='Option Price')\n",
    "plt.xlabel('Value of Stock Price')\n",
    "plt.ylabel('Time')\n",
    "plt.title(f'Option Price: {np.round(V[0,step],3)} (for M={M}, N={N} and Index={step})')\n",
    "plt.show()"
   ]
  }
 ],
 "metadata": {
  "kernelspec": {
   "display_name": "base",
   "language": "python",
   "name": "python3"
  },
  "language_info": {
   "codemirror_mode": {
    "name": "ipython",
    "version": 3
   },
   "file_extension": ".py",
   "mimetype": "text/x-python",
   "name": "python",
   "nbconvert_exporter": "python",
   "pygments_lexer": "ipython3",
   "version": "3.9.16"
  },
  "orig_nbformat": 4,
  "vscode": {
   "interpreter": {
    "hash": "bb1df1545d4534d39d27295e1104949606b0e7f9162bb4496c774b9901e8c739"
   }
  }
 },
 "nbformat": 4,
 "nbformat_minor": 2
}
